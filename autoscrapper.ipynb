{
  "nbformat": 4,
  "nbformat_minor": 0,
  "metadata": {
    "colab": {
      "provenance": []
    },
    "kernelspec": {
      "name": "python3",
      "display_name": "Python 3"
    },
    "language_info": {
      "name": "python"
    }
  },
  "cells": [
    {
      "cell_type": "code",
      "execution_count": 10,
      "metadata": {
        "colab": {
          "base_uri": "https://localhost:8080/"
        },
        "id": "L1OiYj0L_PbV",
        "outputId": "68e621bb-4c53-49e2-e69b-f6f6fc35f4fb"
      },
      "outputs": [
        {
          "output_type": "stream",
          "name": "stdout",
          "text": [
            "Requirement already satisfied: autoscraper in /usr/local/lib/python3.10/dist-packages (1.1.14)\n",
            "Requirement already satisfied: requests in /usr/local/lib/python3.10/dist-packages (from autoscraper) (2.31.0)\n",
            "Requirement already satisfied: bs4 in /usr/local/lib/python3.10/dist-packages (from autoscraper) (0.0.1)\n",
            "Requirement already satisfied: lxml in /usr/local/lib/python3.10/dist-packages (from autoscraper) (4.9.3)\n",
            "Requirement already satisfied: beautifulsoup4 in /usr/local/lib/python3.10/dist-packages (from bs4->autoscraper) (4.11.2)\n",
            "Requirement already satisfied: charset-normalizer<4,>=2 in /usr/local/lib/python3.10/dist-packages (from requests->autoscraper) (3.2.0)\n",
            "Requirement already satisfied: idna<4,>=2.5 in /usr/local/lib/python3.10/dist-packages (from requests->autoscraper) (3.4)\n",
            "Requirement already satisfied: urllib3<3,>=1.21.1 in /usr/local/lib/python3.10/dist-packages (from requests->autoscraper) (2.0.4)\n",
            "Requirement already satisfied: certifi>=2017.4.17 in /usr/local/lib/python3.10/dist-packages (from requests->autoscraper) (2023.7.22)\n",
            "Requirement already satisfied: soupsieve>1.2 in /usr/local/lib/python3.10/dist-packages (from beautifulsoup4->bs4->autoscraper) (2.4.1)\n"
          ]
        }
      ],
      "source": [
        "!pip install autoscraper"
      ]
    },
    {
      "cell_type": "code",
      "source": [
        "from autoscraper import AutoScraper"
      ],
      "metadata": {
        "id": "0gN1tPUDAGnS"
      },
      "execution_count": 11,
      "outputs": []
    },
    {
      "cell_type": "code",
      "source": [
        "amazon_url = \"https://www.amazon.com/s?k=headphones+for+school&sprefix=headp%2Caps%2C294&ref=nb_sb_ss_ts-doa-p_2_5\"\n",
        "wanted_llst = [\"$9.99 \",\"noot products A319 Over The Ear Wired Headphones with Volume Control, Microphone, Adjustable Headband and 3.5mm Audiojack Headphones for School (Black)\",\"7\"]\n"
      ],
      "metadata": {
        "id": "ekGQdHIuAQ9W"
      },
      "execution_count": 12,
      "outputs": []
    },
    {
      "cell_type": "code",
      "source": [
        "scrapper =AutoScraper()\n",
        "results = scrapper.build(amazon_url,wanted_llst)\n",
        "print(results)"
      ],
      "metadata": {
        "colab": {
          "base_uri": "https://localhost:8080/"
        },
        "id": "7dVuq7SDCHHv",
        "outputId": "4fdb0d59-4bf9-412d-a312-0ad569c2b155"
      },
      "execution_count": 13,
      "outputs": [
        {
          "output_type": "stream",
          "name": "stdout",
          "text": [
            "['$9.99', '$19.99', '$13.99', '$11.99', '$8.99', '$16.99', '$12.99', '$11.04', '$15.99', 'Sony ZX Series Wired On-Ear Headphones, White MDR-ZX110', \"Amazon's Choicefor headphones for school\", 'Bulktech Wired On-Ear Leather Headphones with 3.5mm Connector, Bulk Wholesale, 10 Pack, Assorted Colors', 'vinamass Kids Headphones, Ear Headphones for Kids, Wired Headphones with Safe Volume Limiter 85dB, Adjustable and Flexible for Kids, Boys, Girls,Suit for School Classroom Students Teens Children', 'gorsun Kids Headphones, Headphones for Kids for School, 85dB/94dB Volume Limited, Wired Headphones with Mic, Sharing Function, Adjustable Toddler Headphones for School/Tablet/PC', 'noot products A319 Over The Ear Wired Headphones with Volume Control, Microphone, Adjustable Headband and 3.5mm Audiojack Headphones for School (Black)', 'POWMEE P20 Kids Headphones Over-Ear Headphones for Kids/Teens/Boys/Girls/School with 94dB Volume Limited Adjustable Stereo Tangle-Free 3.5MM Jack Wire Cord for Fire Tablets/Travel/PC/Phones(Blue)', 'TuneFlux Kids Headphones, Toddler Headphones with Safe Volume Limiter 85dB, Wired School Headphones for Kids with Adjustable and Flexible Design for Boys and Girls-Pink', 'FosPower Kids Headphones with LED Cat Ears (Safe Volume Limit 85 dB), 3.5mm On-Ear Wired Headphones with Laced Tangle-Free Cables for Boys/Girls/School/Travel - Teal/Light Purple', 'POWMEE M2 Kids Headphones Wired Headphone for Kids,Foldable Adjustable Stereo Tangle-Free,3.5MM Jack Wire Cord On-Ear Headphone for Children/Teens/Girls/School/Kindle/Airplane/Plane/ (Blue)', 'IMYB Kids Headphones, V1 Wired Stereo Foldable Tangle-Free 3.5mm Adjustable On-Ear Headphones for Kids for School/Toddlers/Childrens/Teens/Boys/Girls/Ipad/Tablet/Kindle/Phones/Travel/Plane (Green)', 'gorsun Premium A66 Kids Headphones with 85dB/94dB Volume Limited, in-line HD Mic, Audio Sharing, Foldable Toddler Headphones, Adjustable, Children Headphones Over-Ear for School Travel, Blue', 'Olitec Kids Headphones - Over-Ear Headphones for Kids, and Teen, Ideal Headphones for Kids for School and Long-Ride Travel, Lightweight Headset with Aux 3.5mm Jack Connection', 'LORELEI X6 Over-Ear Headphones with Microphone, Lightweight Foldable & Portable Stereo Bass Headphones with 1.45M No-Tangle, Wired Headphones for Smartphone Tablet MP3 / 4 (Pearl Pink)', 'MIDOLA Kids Headphones Wired Volume Limited 85/110dB Over Ear Foldable with Shareport Headset Inline Cable AUX 3.5mm Mic for iPad Notebook Boy Girl Travel School Tablet Pink', 'ELECDER i45 On-Ear Headphones with Microphone - Foldable Stereo Bass Headphones with No-Tangle 1.5M Cord, 3.5MM Jack, Portable Wired Headphones for School/Kids/Teens/Smartphones/Travel/Tablet - Blue', 'NIVAVA Kids Headphones, K8 Wired Headphones for Kids with Adjustable Headband, 3.5 MM Jack for School, Foldable On-Ear Headset for Amazon Kindle, Fire Boys Girls Children, Tablet Cellphones Airplane', '7', '1', '2', '3', '4', '5', '6', '8', '9', '10', '11', '12', '13', '14', '15', '16', '107,003', '22', '2,205', '1,771', '1,670', '82', '9,035', '10,292', '289', '3,063', '1,045', '11,064', '1,983', '2,037', '4,603']\n"
          ]
        }
      ]
    },
    {
      "cell_type": "code",
      "source": [
        "scrapper.set_rule_aliases({\"rule_32bd\": \"Title\",\"rule_qdmv\":\"Price\"})\n",
        "scrapper.keep_rules(['rule_32bd','rule_qdmv'])\n",
        "scrapper.save('amazon search')"
      ],
      "metadata": {
        "id": "_2bRJ4T0C3dz"
      },
      "execution_count": 16,
      "outputs": []
    },
    {
      "cell_type": "code",
      "source": [
        "scrapper.get_result_similar(amazon_url,grouped=True)"
      ],
      "metadata": {
        "colab": {
          "base_uri": "https://localhost:8080/"
        },
        "id": "tIPkxf2FCVtF",
        "outputId": "1dceb27a-89a9-4e71-d44a-9129c864f5c9"
      },
      "execution_count": 14,
      "outputs": [
        {
          "output_type": "execute_result",
          "data": {
            "text/plain": [
              "{'rule_0vm2': ['$9.99',\n",
              "  '$19.99',\n",
              "  '$13.99',\n",
              "  '$11.99',\n",
              "  '$9.99',\n",
              "  '$8.99',\n",
              "  '$11.99',\n",
              "  '$16.99',\n",
              "  '$12.99',\n",
              "  '$11.99',\n",
              "  '$13.99',\n",
              "  '$9.99',\n",
              "  '$12.99',\n",
              "  '$11.04',\n",
              "  '$15.99',\n",
              "  '$16.99'],\n",
              " 'rule_a5oi': ['$9.99',\n",
              "  '$19.99',\n",
              "  '$13.99',\n",
              "  '$11.99',\n",
              "  '$9.99',\n",
              "  '$8.99',\n",
              "  '$11.99',\n",
              "  '$16.99',\n",
              "  '$12.99',\n",
              "  '$11.99',\n",
              "  '$13.99',\n",
              "  '$9.99',\n",
              "  '$12.99',\n",
              "  '$11.04',\n",
              "  '$15.99',\n",
              "  '$16.99'],\n",
              " 'rule_j240': ['$9.99',\n",
              "  '$19.99',\n",
              "  '$13.99',\n",
              "  '$11.99',\n",
              "  '$9.99',\n",
              "  '$8.99',\n",
              "  '$11.99',\n",
              "  '$16.99',\n",
              "  '$12.99',\n",
              "  '$11.99',\n",
              "  '$13.99',\n",
              "  '$9.99',\n",
              "  '$12.99',\n",
              "  '$11.04',\n",
              "  '$15.99',\n",
              "  '$16.99'],\n",
              " 'rule_w7gk': ['$9.99',\n",
              "  '$19.99',\n",
              "  '$13.99',\n",
              "  '$11.99',\n",
              "  '$9.99',\n",
              "  '$8.99',\n",
              "  '$11.99',\n",
              "  '$16.99',\n",
              "  '$12.99',\n",
              "  '$11.99',\n",
              "  '$13.99',\n",
              "  '$9.99',\n",
              "  '$12.99',\n",
              "  '$11.04',\n",
              "  '$15.99',\n",
              "  '$16.99'],\n",
              " 'rule_qtjy': ['$9.99',\n",
              "  '$19.99',\n",
              "  '$13.99',\n",
              "  '$11.99',\n",
              "  '$9.99',\n",
              "  '$8.99',\n",
              "  '$11.99',\n",
              "  '$16.99',\n",
              "  '$12.99',\n",
              "  '$11.99',\n",
              "  '$13.99',\n",
              "  '$9.99',\n",
              "  '$12.99',\n",
              "  '$11.04',\n",
              "  '$15.99',\n",
              "  '$16.99'],\n",
              " 'rule_qdmv': ['$9.99',\n",
              "  '$19.99',\n",
              "  '$13.99',\n",
              "  '$11.99',\n",
              "  '$9.99',\n",
              "  '$8.99',\n",
              "  '$11.99',\n",
              "  '$16.99',\n",
              "  '$12.99',\n",
              "  '$11.99',\n",
              "  '$13.99',\n",
              "  '$9.99',\n",
              "  '$12.99',\n",
              "  '$11.04',\n",
              "  '$15.99',\n",
              "  '$16.99'],\n",
              " 'rule_32bd': ['Sony ZX Series Wired On-Ear Headphones, White MDR-ZX110',\n",
              "  'Bulktech Wired On-Ear Leather Headphones with 3.5mm Connector, Bulk Wholesale, 10 Pack, Assorted Colors',\n",
              "  'vinamass Kids Headphones, Ear Headphones for Kids, Wired Headphones with Safe Volume Limiter 85dB, Adjustable and Flexible for Kids, Boys, Girls,Suit for School Classroom Students Teens Children',\n",
              "  'gorsun Kids Headphones, Headphones for Kids for School, 85dB/94dB Volume Limited, Wired Headphones with Mic, Sharing Function, Adjustable Toddler Headphones for School/Tablet/PC',\n",
              "  'noot products A319 Over The Ear Wired Headphones with Volume Control, Microphone, Adjustable Headband and 3.5mm Audiojack Headphones for School (Black)',\n",
              "  'POWMEE P20 Kids Headphones Over-Ear Headphones for Kids/Teens/Boys/Girls/School with 94dB Volume Limited Adjustable Stereo Tangle-Free 3.5MM Jack Wire Cord for Fire Tablets/Travel/PC/Phones(Blue)',\n",
              "  'TuneFlux Kids Headphones, Toddler Headphones with Safe Volume Limiter 85dB, Wired School Headphones for Kids with Adjustable and Flexible Design for Boys and Girls-Pink',\n",
              "  'FosPower Kids Headphones with LED Cat Ears (Safe Volume Limit 85 dB), 3.5mm On-Ear Wired Headphones with Laced Tangle-Free Cables for Boys/Girls/School/Travel - Teal/Light Purple',\n",
              "  'POWMEE M2 Kids Headphones Wired Headphone for Kids,Foldable Adjustable Stereo Tangle-Free,3.5MM Jack Wire Cord On-Ear Headphone for Children/Teens/Girls/School/Kindle/Airplane/Plane/ (Blue)',\n",
              "  'IMYB Kids Headphones, V1 Wired Stereo Foldable Tangle-Free 3.5mm Adjustable On-Ear Headphones for Kids for School/Toddlers/Childrens/Teens/Boys/Girls/Ipad/Tablet/Kindle/Phones/Travel/Plane (Green)',\n",
              "  'gorsun Premium A66 Kids Headphones with 85dB/94dB Volume Limited, in-line HD Mic, Audio Sharing, Foldable Toddler Headphones, Adjustable, Children Headphones Over-Ear for School Travel, Blue',\n",
              "  'Olitec Kids Headphones - Over-Ear Headphones for Kids, and Teen, Ideal Headphones for Kids for School and Long-Ride Travel, Lightweight Headset with Aux 3.5mm Jack Connection',\n",
              "  'LORELEI X6 Over-Ear Headphones with Microphone, Lightweight Foldable & Portable Stereo Bass Headphones with 1.45M No-Tangle, Wired Headphones for Smartphone Tablet MP3 / 4 (Pearl Pink)',\n",
              "  'MIDOLA Kids Headphones Wired Volume Limited 85/110dB Over Ear Foldable with Shareport Headset Inline Cable AUX 3.5mm Mic for iPad Notebook Boy Girl Travel School Tablet Pink',\n",
              "  'ELECDER i45 On-Ear Headphones with Microphone - Foldable Stereo Bass Headphones with No-Tangle 1.5M Cord, 3.5MM Jack, Portable Wired Headphones for School/Kids/Teens/Smartphones/Travel/Tablet - Blue',\n",
              "  'NIVAVA Kids Headphones, K8 Wired Headphones for Kids with Adjustable Headband, 3.5 MM Jack for School, Foldable On-Ear Headset for Amazon Kindle, Fire Boys Girls Children, Tablet Cellphones Airplane'],\n",
              " 'rule_rnwl': ['7', '7', '7'],\n",
              " 'rule_rai4': ['7', '7', '7'],\n",
              " 'rule_1w2o': ['7', '7', '7'],\n",
              " 'rule_mf0p': ['1',\n",
              "  '2',\n",
              "  '3',\n",
              "  '4',\n",
              "  '5',\n",
              "  '6',\n",
              "  '7',\n",
              "  '8',\n",
              "  '9',\n",
              "  '10',\n",
              "  '11',\n",
              "  '12',\n",
              "  '13',\n",
              "  '14',\n",
              "  '15',\n",
              "  '16'],\n",
              " 'rule_4fb1': ['1',\n",
              "  '2',\n",
              "  '3',\n",
              "  '4',\n",
              "  '5',\n",
              "  '6',\n",
              "  '7',\n",
              "  '8',\n",
              "  '9',\n",
              "  '10',\n",
              "  '11',\n",
              "  '12',\n",
              "  '13',\n",
              "  '14',\n",
              "  '15',\n",
              "  '16'],\n",
              " 'rule_j6bw': ['107K+',\n",
              "  '22',\n",
              "  '2.2K+',\n",
              "  '1.7K+',\n",
              "  '7',\n",
              "  '1.6K+',\n",
              "  '82',\n",
              "  '9K+',\n",
              "  '10.2K+',\n",
              "  '289',\n",
              "  '3K+',\n",
              "  '1K+',\n",
              "  '11K+',\n",
              "  '1.9K+',\n",
              "  '2K+',\n",
              "  '4.6K+'],\n",
              " 'rule_gcou': ['1', '2', '3', '4', '5', '6', '7', '8'],\n",
              " 'rule_8ig2': ['7'],\n",
              " 'rule_b34o': ['7']}"
            ]
          },
          "metadata": {},
          "execution_count": 14
        }
      ]
    },
    {
      "cell_type": "code",
      "source": [
        "scrapper.load(\"amazon search\")"
      ],
      "metadata": {
        "id": "QeemIPRFEJc-"
      },
      "execution_count": 18,
      "outputs": []
    },
    {
      "cell_type": "markdown",
      "source": [],
      "metadata": {
        "id": "piG5EXo6G8Oq"
      }
    },
    {
      "cell_type": "code",
      "source": [
        "results = scrapper.get_result_similar(\"https://www.amazon.com/s?k=headphones+for+school&sprefix=headp%2Caps%2C294&ref=nb_sb_ss_ts-doa-p_2_5\",group_by_alias = True)"
      ],
      "metadata": {
        "id": "3oy-cJ4HGPde"
      },
      "execution_count": 20,
      "outputs": []
    },
    {
      "cell_type": "code",
      "source": [
        "results[\n",
        "    'Title'\n",
        "]\n",
        "\n"
      ],
      "metadata": {
        "colab": {
          "base_uri": "https://localhost:8080/"
        },
        "id": "W2vQiVBbHLKs",
        "outputId": "31377c3f-2865-45ff-db42-a5aa60151fce"
      },
      "execution_count": 28,
      "outputs": [
        {
          "output_type": "execute_result",
          "data": {
            "text/plain": [
              "[\"Amazon's Choicefor headphones for school\",\n",
              " 'vinamass Kids Headphones, Ear Headphones for Kids, Wired Headphones with Safe Volume Limiter 85dB, Adjustable and Flexible for Kids, Boys, Girls,Suit for School Classroom Students Teens Children',\n",
              " 'Bulktech Wired On-Ear Leather Headphones with 3.5mm Connector, Bulk Wholesale, 10 Pack, Assorted Colors',\n",
              " 'POWMEE P20 Kids Headphones Over-Ear Headphones for Kids/Teens/Boys/Girls/School with 94dB Volume Limited Adjustable Stereo Tangle-Free 3.5MM Jack Wire Cord for Fire Tablets/Travel/PC/Phones(Blue)',\n",
              " 'POWMEE M2 Kids Headphones Wired Headphone for Kids,Foldable Adjustable Stereo Tangle-Free,3.5MM Jack Wire Cord On-Ear Headphone for Children/Teens/Girls/School/Kindle/Airplane/Plane/ (Blue)',\n",
              " 'LORELEI X6 Over-Ear Headphones with Microphone, Lightweight Foldable & Portable Stereo Bass Headphones with 1.45M No-Tangle, Wired Headphones for Smartphone Tablet MP3 / 4 (Pearl Pink)',\n",
              " 'gorsun Kids Headphones, Headphones for Kids for School, 85dB/94dB Volume Limited, Wired Headphones with Mic, Sharing Function, Adjustable Toddler Headphones for School/Tablet/PC',\n",
              " 'iClever 2 Pack Kids Headphones with Microphone - 94dB Safe Volume Limited - HS22 Wired Headphones for Kids Teens with Sharing Splitter, Tangle-Free Foldable Stereo Headset for School/Tablet/Travel',\n",
              " 'noot products A319 Over The Ear Wired Headphones with Volume Control, Microphone, Adjustable Headband and 3.5mm Audiojack Headphones for School (Black)',\n",
              " 'Olitec Kids Headphones - Over-Ear Headphones for Kids, and Teen, Ideal Headphones for Kids for School and Long-Ride Travel, Lightweight Headset with Aux 3.5mm Jack Connection',\n",
              " 'Sony ZX Series Wired On-Ear Headphones, White MDR-ZX110',\n",
              " 'LUDOS FEROX Wired Earbuds in-Ear Headphones, 5 Year Warranty, Earphones with Microphone, Noise Isolation Corded for 3.5mm Jack Ear Buds for iPhone, Samsung, Computer, Laptop, Kids, School Students',\n",
              " 'EarFun Kids Headphones Wired with Microphone, 85/94dB Volume Limit Headphones for Kids, Portable Wired Headphones with Shareport, Stereo Sound Foldable Headset for School/Tablet/iPad/Kindle Pink',\n",
              " 'FosPower Kids Headphones with LED Cat Ears (Safe Volume Limit 85 dB), 3.5mm On-Ear Wired Headphones with Laced Tangle-Free Cables for Boys/Girls/School/Travel - Teal/Light Purple',\n",
              " 'POWMEE M1 Kids Headphones Wired Headphone for Kids,Foldable Adjustable Stereo Tangle-Free,3.5MM Jack Wire Cord On-Ear Headphone for Children (Pink)',\n",
              " 'Sony ZX110 Over-Ear Dynamic Stereo Headphones (Black)',\n",
              " 'noot products Kids Headphones with Microphone K12 Stereo 5ft Long Cord with 85dB/94dB Volume Limit Wired On-Ear Headset for iPad/Amazon Kindle,Fire/Toddler/Boys/Girls/School/Travel/Plane(Blue/Lime)']"
            ]
          },
          "metadata": {},
          "execution_count": 28
        }
      ]
    },
    {
      "cell_type": "code",
      "source": [
        "results['Price']"
      ],
      "metadata": {
        "colab": {
          "base_uri": "https://localhost:8080/"
        },
        "id": "plc8EpnNHbg7",
        "outputId": "2703aeb7-f9a1-4ab6-9852-34883a17638e"
      },
      "execution_count": 29,
      "outputs": [
        {
          "output_type": "execute_result",
          "data": {
            "text/plain": [
              "['$13.99',\n",
              " '$19.99',\n",
              " '$8.99',\n",
              " '$12.99',\n",
              " '$12.99',\n",
              " '$11.99',\n",
              " '$31.96',\n",
              " '$9.99',\n",
              " '$9.99',\n",
              " '$9.99',\n",
              " '$9.97',\n",
              " '$12.99',\n",
              " '$16.99',\n",
              " '$10.99',\n",
              " '$17.99',\n",
              " '$11.99']"
            ]
          },
          "metadata": {},
          "execution_count": 29
        }
      ]
    },
    {
      "cell_type": "code",
      "source": [],
      "metadata": {
        "id": "flI6K83TIoT5"
      },
      "execution_count": null,
      "outputs": []
    }
  ]
}